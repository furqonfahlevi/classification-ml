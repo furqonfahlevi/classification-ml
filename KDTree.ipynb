{
 "cells": [
  {
   "cell_type": "code",
   "execution_count": null,
   "metadata": {},
   "outputs": [],
   "source": [
    "import pandas as pd\n",
    "import numpy as np\n",
    "from sklearn.model_selection import train_test_split\n",
    "import heapq\n",
    "import statistics"
   ]
  },
  {
   "cell_type": "code",
   "execution_count": null,
   "metadata": {},
   "outputs": [],
   "source": [
    "data = pd.read_csv(\"kendaraan_clean_pca.csv\")"
   ]
  },
  {
   "cell_type": "code",
   "execution_count": null,
   "metadata": {},
   "outputs": [],
   "source": [
    "X = data.drop(columns=[\"Tertarik\"])\n",
    "y = data[[\"Tertarik\"]]\n",
    "X_train, X_test, y_train, y_test = train_test_split(X, y, test_size = 0.2, random_state = 42)"
   ]
  },
  {
   "cell_type": "code",
   "execution_count": null,
   "metadata": {},
   "outputs": [
    {
     "name": "stdout",
     "output_type": "stream",
     "text": [
      "(398857, 2) (99715, 2) (398857, 1) (99715, 1)\n"
     ]
    }
   ],
   "source": [
    "print(X_train.shape, X_test.shape, y_train.shape, y_test.shape)"
   ]
  },
  {
   "cell_type": "code",
   "execution_count": 40,
   "metadata": {},
   "outputs": [],
   "source": [
    "class KDNode:\n",
    "    def __init__(self, points, y, left = None, right = None, distance = np.inf):\n",
    "        self.points = points\n",
    "        self.y = y\n",
    "        self.left = left\n",
    "        self.right = right\n",
    "        self.distance = distance\n",
    "    def __lt__(self, other):\n",
    "        return self.distance < other.distance"
   ]
  },
  {
   "cell_type": "code",
   "execution_count": 44,
   "metadata": {},
   "outputs": [],
   "source": [
    "class KDTree:\n",
    "    def __init__(self, k = 2):\n",
    "        self.tree = None\n",
    "        self.k = k\n",
    "        self.depth = 0\n",
    "        self.heap = []\n",
    "    \n",
    "    def fit(self, X, y):\n",
    "        self.X = X\n",
    "        self.y = y\n",
    "\n",
    "        if isinstance(X, pd.DataFrame):\n",
    "            X = X.values\n",
    "        \n",
    "        if isinstance(y, pd.DataFrame):\n",
    "            y = y.values\n",
    "\n",
    "        self.tree = self._construct_tree(np.array(X), np.array(y).reshape(-1), 0)\n",
    "    \n",
    "    def _construct_tree(self, points, y, depth):\n",
    "        if len(points) == 0:\n",
    "            return None\n",
    "        \n",
    "        k = len(points[0])\n",
    "        axis = depth % k\n",
    "        \n",
    "        sort_by_axis = np.argsort(points[:, axis])\n",
    "        sorted_points = points[sort_by_axis]\n",
    "        sorted_y =  y[sort_by_axis]\n",
    "        mid = len(sorted_points) // 2\n",
    "\n",
    "        return KDNode(\n",
    "            sorted_points[mid],\n",
    "            sorted_y[mid],\n",
    "            self._construct_tree(sorted_points[:mid], sorted_y[:mid], depth + 1),\n",
    "            self._construct_tree(sorted_points[mid + 1:],sorted_y[mid + 1:], depth + 1)\n",
    "        )\n",
    "    \n",
    "    def _height(self, root):\n",
    "        if root is None:\n",
    "            return 0\n",
    "        return max(self._height(root.left), self._height(root.right)) + 1\n",
    "\n",
    "    def _isBalanced(self, root):\n",
    "        if root is None:\n",
    "            return True\n",
    "        \n",
    "        left_height = self._height(root.left)\n",
    "        right_height = self._height(root.right)\n",
    "\n",
    "        return abs(left_height - right_height) <= 1 and (self._isBalanced(root.left) and self._isBalanced(root.right) is True)\n",
    "\n",
    "    def isBalanced(self):\n",
    "        return self._isBalanced(self.tree)\n",
    "\n",
    "    def height(self):\n",
    "        return self._height(self.tree)\n",
    "\n",
    "    def nearest_neighbour_search(self, query_point):\n",
    "        k = len(query_point)\n",
    "        # heapq.heapify(self.heap)\n",
    "        best = None\n",
    "\n",
    "        def search(tree, depth):\n",
    "            if tree is None:\n",
    "                return\n",
    "\n",
    "            nonlocal best\n",
    "\n",
    "\n",
    "            \n",
    "            # d = euclidean(tree.points, query_point)\n",
    "            d = np.linalg.norm(query_point - tree.points)\n",
    "            tree.distance = d\n",
    "\n",
    "            if best is None or d < best.distance:\n",
    "                best = KDNode(tree.points, tree.y, distance=d)\n",
    "            \n",
    "            axis = depth % k\n",
    "            diff = query_point[axis] - tree.points[axis]\n",
    "            \n",
    "            if diff <= 0:\n",
    "                close, away = tree.left, tree.right\n",
    "            else:\n",
    "                close, away = tree.right, tree.left\n",
    "\n",
    "            search(close, depth + 1)\n",
    "\n",
    "            # if len(self.heap) < self.k:\n",
    "            #     heapq.heappush(self.heap, tree)\n",
    "            # else:\n",
    "            #     if heapq.nsmallest(1, self.heap)[0].distance < -d:\n",
    "            #         heapq.heapreplace(self.heap, tree)\n",
    "\n",
    "            if diff * diff < best.distance:\n",
    "                search(away, depth + 1)\n",
    "\n",
    "        search(self.tree, 0)\n",
    "        # nds = heapq.nlargest(self.k, self.heap)\n",
    "        return best\n",
    "\n",
    "    def predict(self, X_test):\n",
    "        results = []\n",
    "        if isinstance(X_test, pd.DataFrame):\n",
    "            X_test = X_test.values\n",
    "            \n",
    "        for test in X_test:\n",
    "            result = self.nearest_neighbour_search(test)\n",
    "            # predict_values = [x.y for x in result]\n",
    "            # results.append(statistics.mode(predict_values))\n",
    "            results.append(result.y)\n",
    "        return results"
   ]
  },
  {
   "cell_type": "code",
   "execution_count": 45,
   "metadata": {},
   "outputs": [],
   "source": [
    "kdtree = KDTree(k = 1)\n",
    "kdtree.fit(X_train, y_train)"
   ]
  },
  {
   "cell_type": "code",
   "execution_count": 46,
   "metadata": {},
   "outputs": [],
   "source": [
    "y_pred = kdtree.predict(X_test)"
   ]
  },
  {
   "cell_type": "code",
   "execution_count": 48,
   "metadata": {},
   "outputs": [
    {
     "name": "stdout",
     "output_type": "stream",
     "text": [
      "Accuracy with K-NN: 94.04%\n",
      "              precision    recall  f1-score   support\n",
      "\n",
      "           0       0.88      1.00      0.94     44056\n",
      "           1       1.00      0.90      0.94     55659\n",
      "\n",
      "    accuracy                           0.94     99715\n",
      "   macro avg       0.94      0.95      0.94     99715\n",
      "weighted avg       0.95      0.94      0.94     99715\n",
      "\n",
      "[[43957    99]\n",
      " [ 5844 49815]]\n"
     ]
    }
   ],
   "source": [
    "from sklearn.metrics import confusion_matrix, accuracy_score, classification_report\n",
    "\n",
    "precision = accuracy_score(y_pred, y_test) * 100\n",
    "class_report = classification_report(y_pred, y_test)\n",
    "print(\"Accuracy with K-NN: {0:.2f}%\".format(precision))\n",
    "print(class_report)\n",
    "print(confusion_matrix(y_pred, y_test))"
   ]
  },
  {
   "cell_type": "code",
   "execution_count": 49,
   "metadata": {},
   "outputs": [],
   "source": [
    "df_test = pd.read_csv(\"kendaraan_clean_pca_test.csv\")\n",
    "y_pred_2_scratch = kdtree.predict(df_test.drop(columns=[\"Tertarik\"]))"
   ]
  },
  {
   "cell_type": "code",
   "execution_count": 50,
   "metadata": {},
   "outputs": [
    {
     "name": "stdout",
     "output_type": "stream",
     "text": [
      "Accuracy with K-NN: 98.80%\n",
      "              precision    recall  f1-score   support\n",
      "\n",
      "           0       0.98      1.00      0.99    243532\n",
      "           1       1.00      0.98      0.99    255040\n",
      "\n",
      "    accuracy                           0.99    498572\n",
      "   macro avg       0.99      0.99      0.99    498572\n",
      "weighted avg       0.99      0.99      0.99    498572\n",
      "\n",
      "[[243421    111]\n",
      " [  5865 249175]]\n"
     ]
    }
   ],
   "source": [
    "precision3 = accuracy_score(y_pred_2_scratch, df_test[[\"Tertarik\"]]) * 100\n",
    "class_report3 = classification_report(y_pred_2_scratch, df_test[[\"Tertarik\"]])\n",
    "print(\"Accuracy with K-NN: {0:.2f}%\".format(precision3))\n",
    "print(class_report3)\n",
    "print(confusion_matrix(y_pred_2_scratch, df_test[[\"Tertarik\"]]))"
   ]
  },
  {
   "cell_type": "code",
   "execution_count": 51,
   "metadata": {},
   "outputs": [
    {
     "name": "stderr",
     "output_type": "stream",
     "text": [
      "C:\\Users\\milha\\AppData\\Local\\Programs\\Python\\Python39\\lib\\site-packages\\sklearn\\neighbors\\_classification.py:179: DataConversionWarning: A column-vector y was passed when a 1d array was expected. Please change the shape of y to (n_samples,), for example using ravel().\n",
      "  return self._fit(X, y)\n"
     ]
    }
   ],
   "source": [
    "from sklearn.neighbors import KNeighborsClassifier\n",
    "knn = KNeighborsClassifier(n_neighbors=1, p=2, algorithm='kd_tree')\n",
    "knn.fit(X_train, y_train)\n",
    "y_pred_1 = knn.predict(X_test)"
   ]
  },
  {
   "cell_type": "code",
   "execution_count": 52,
   "metadata": {},
   "outputs": [
    {
     "name": "stdout",
     "output_type": "stream",
     "text": [
      "Accuracy with K-NN: 94.04%\n",
      "              precision    recall  f1-score   support\n",
      "\n",
      "           0       0.88      1.00      0.94     44059\n",
      "           1       1.00      0.90      0.94     55656\n",
      "\n",
      "    accuracy                           0.94     99715\n",
      "   macro avg       0.94      0.95      0.94     99715\n",
      "weighted avg       0.95      0.94      0.94     99715\n",
      "\n",
      "[[43959   100]\n",
      " [ 5842 49814]]\n"
     ]
    }
   ],
   "source": [
    "precision1 = accuracy_score(y_pred_1, y_test) * 100\n",
    "class_report = classification_report(y_pred_1, y_test)\n",
    "print(\"Accuracy with K-NN: {0:.2f}%\".format(precision1))\n",
    "print(class_report)\n",
    "print(confusion_matrix(y_pred_1, y_test))"
   ]
  },
  {
   "cell_type": "code",
   "execution_count": 53,
   "metadata": {},
   "outputs": [],
   "source": [
    "df_test = pd.read_csv(\"kendaraan_clean_pca_test.csv\")\n",
    "y_pred_2 = knn.predict(df_test.drop(columns=[\"Tertarik\"]))"
   ]
  },
  {
   "cell_type": "code",
   "execution_count": 54,
   "metadata": {},
   "outputs": [
    {
     "name": "stdout",
     "output_type": "stream",
     "text": [
      "Accuracy with K-NN: 98.80%\n",
      "              precision    recall  f1-score   support\n",
      "\n",
      "           0       0.98      1.00      0.99    243552\n",
      "           1       1.00      0.98      0.99    255020\n",
      "\n",
      "    accuracy                           0.99    498572\n",
      "   macro avg       0.99      0.99      0.99    498572\n",
      "weighted avg       0.99      0.99      0.99    498572\n",
      "\n",
      "[[243426    126]\n",
      " [  5860 249160]]\n"
     ]
    }
   ],
   "source": [
    "precision2 = accuracy_score(y_pred_2, df_test[[\"Tertarik\"]]) * 100\n",
    "class_report2 = classification_report(y_pred_2, df_test[[\"Tertarik\"]])\n",
    "print(\"Accuracy with K-NN: {0:.2f}%\".format(precision2))\n",
    "print(class_report2)\n",
    "print(confusion_matrix(y_pred_2, df_test[[\"Tertarik\"]]))"
   ]
  },
  {
   "cell_type": "code",
   "execution_count": null,
   "metadata": {},
   "outputs": [],
   "source": []
  }
 ],
 "metadata": {
  "interpreter": {
   "hash": "1ef2aa9c3263e35572280c43a636090afbda352cb7456d858433bc6d0518c73c"
  },
  "kernelspec": {
   "display_name": "Python 3.9.0 64-bit",
   "language": "python",
   "name": "python3"
  },
  "language_info": {
   "codemirror_mode": {
    "name": "ipython",
    "version": 3
   },
   "file_extension": ".py",
   "mimetype": "text/x-python",
   "name": "python",
   "nbconvert_exporter": "python",
   "pygments_lexer": "ipython3",
   "version": "3.9.0"
  },
  "orig_nbformat": 4
 },
 "nbformat": 4,
 "nbformat_minor": 2
}
